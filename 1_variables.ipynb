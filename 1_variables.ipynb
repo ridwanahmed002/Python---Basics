{
 "cells": [
  {
   "cell_type": "markdown",
   "id": "5532be05",
   "metadata": {},
   "source": [
    "# Basic output "
   ]
  },
  {
   "cell_type": "code",
   "execution_count": 5,
   "id": "0d2e5821",
   "metadata": {},
   "outputs": [
    {
     "name": "stdout",
     "output_type": "stream",
     "text": [
      "hello world & I am ridwan ?"
     ]
    }
   ],
   "source": [
    "print(\"hello world\",\"I am ridwan\", sep=\" & \", end=\" ?\")"
   ]
  },
  {
   "cell_type": "code",
   "execution_count": 10,
   "id": "49bb3960",
   "metadata": {},
   "outputs": [
    {
     "name": "stdout",
     "output_type": "stream",
     "text": [
      "rdwan\n",
      "My name is rdwan\n"
     ]
    }
   ],
   "source": [
    "var = \"rdwan\"\n",
    "print(var)\n",
    "print(\"My name is\", var)"
   ]
  },
  {
   "cell_type": "markdown",
   "id": "e38c487a",
   "metadata": {},
   "source": [
    "# Variable"
   ]
  },
  {
   "cell_type": "code",
   "execution_count": 14,
   "id": "48095744",
   "metadata": {},
   "outputs": [
    {
     "name": "stdout",
     "output_type": "stream",
     "text": [
      "1981542298752\n",
      "2\n",
      "46\n"
     ]
    }
   ],
   "source": [
    "print(id(var)) #id(var)\n",
    "import sys\n",
    "print(sys.getrefcount(var)) \n",
    "print(sys.getsizeof(var)) "
   ]
  },
  {
   "cell_type": "code",
   "execution_count": null,
   "id": "c180ccd3",
   "metadata": {},
   "outputs": [
    {
     "name": "stdout",
     "output_type": "stream",
     "text": [
      "140717596292632\n",
      "140717596292632\n",
      "True\n",
      "True\n"
     ]
    }
   ],
   "source": [
    "x = 100\n",
    "y = 100\n",
    "print(id(x))\n",
    "print(id(y)) # here both address are same because they are same object\n",
    "print(x == y) # here it will be true because they are same object"
   ]
  },
  {
   "cell_type": "code",
   "execution_count": 18,
   "id": "f6f539db",
   "metadata": {},
   "outputs": [
    {
     "name": "stdout",
     "output_type": "stream",
     "text": [
      "10 20 30\n"
     ]
    }
   ],
   "source": [
    "# invalid variable name  _name, 1name, name1, name@, var-1\n",
    "\n",
    "# multiple variables in single line\n",
    "x, y, z = 10, 20, 30\n",
    "print(x,y,z)\n"
   ]
  },
  {
   "cell_type": "markdown",
   "id": "0a580c0b",
   "metadata": {},
   "source": [
    "# String"
   ]
  },
  {
   "cell_type": "code",
   "execution_count": 24,
   "id": "a814ea83",
   "metadata": {},
   "outputs": [
    {
     "name": "stdout",
     "output_type": "stream",
     "text": [
      "<class 'str'>\n",
      "1020\n",
      "30\n"
     ]
    },
    {
     "data": {
      "text/plain": [
       "43"
      ]
     },
     "execution_count": 24,
     "metadata": {},
     "output_type": "execute_result"
    }
   ],
   "source": [
    "import sys\n",
    "\n",
    "x = input() # 10\n",
    "y = input() # 20\n",
    "print(type(x))\n",
    "print(x+y) # 1020 because x and y are string\n",
    "print(int(x)+int(y)) # 30\n",
    "sys.getsizeof(x)"
   ]
  },
  {
   "cell_type": "code",
   "execution_count": 35,
   "id": "8ec47174",
   "metadata": {},
   "outputs": [
    {
     "name": "stdout",
     "output_type": "stream",
     "text": [
      "HELLO WORLD\n",
      "hello world\n",
      "['hello', 'world']\n",
      "['he', '', 'o wor', 'd']\n",
      "11\n",
      "3\n",
      "2\n",
      "2\n",
      "-1\n",
      "Hello world\n",
      "Hello World\n",
      "HELLO WORLD\n",
      "False\n",
      "False\n",
      "False\n",
      "    hello world     \n",
      "hello world         \n",
      "         hello world\n",
      "heLLo worLd\n"
     ]
    }
   ],
   "source": [
    "# string methods\n",
    "x = \"hello world\"\n",
    "print(x.upper())\n",
    "print(x.lower())\n",
    "print(x.split())\n",
    "print(x.split(\"l\"))\n",
    "print(x.__len__())\n",
    "print(x.count(\"l\"))\n",
    "print(x.find(\"l\"))\n",
    "print(x.find(\"ll\"))\n",
    "print(x.find(\"l\", 10))\n",
    "print(x.capitalize())\n",
    "print(x.title())\n",
    "print(x.swapcase())\n",
    "print(x.isdigit())\n",
    "print(x.isalpha())\n",
    "print(x.isalnum())\n",
    "print(x.center(20))\n",
    "print(x.ljust(20))\n",
    "print(x.rjust(20))\n",
    "print(x.replace(\"l\",\"L\"))"
   ]
  },
  {
   "cell_type": "markdown",
   "id": "56543b4d",
   "metadata": {},
   "source": [
    "# Data types"
   ]
  },
  {
   "cell_type": "code",
   "execution_count": null,
   "id": "3c2e0631",
   "metadata": {},
   "outputs": [],
   "source": []
  }
 ],
 "metadata": {
  "kernelspec": {
   "display_name": "base",
   "language": "python",
   "name": "python3"
  },
  "language_info": {
   "codemirror_mode": {
    "name": "ipython",
    "version": 3
   },
   "file_extension": ".py",
   "mimetype": "text/x-python",
   "name": "python",
   "nbconvert_exporter": "python",
   "pygments_lexer": "ipython3",
   "version": "3.12.7"
  }
 },
 "nbformat": 4,
 "nbformat_minor": 5
}
