{
 "cells": [
  {
   "cell_type": "markdown",
   "id": "7ffc6c0d",
   "metadata": {},
   "source": [
    "# Operators"
   ]
  },
  {
   "cell_type": "code",
   "execution_count": null,
   "id": "3164c600",
   "metadata": {},
   "outputs": [
    {
     "name": "stdout",
     "output_type": "stream",
     "text": [
      "7\n",
      "-1\n",
      "12\n",
      "0.75\n",
      "16\n",
      "0\n",
      "3\n"
     ]
    }
   ],
   "source": [
    "# Arithmetic Operators\n",
    "print(3 + 4)\n",
    "print(3 - 4)\n",
    "print(3 * 4)\n",
    "print(3 / 4)\n",
    "print(2 ** 4) # power\n",
    "print(3 // 4) # floor division\n",
    "print(3 % 4)"
   ]
  },
  {
   "cell_type": "code",
   "execution_count": 16,
   "id": "2dc8dbbe",
   "metadata": {},
   "outputs": [
    {
     "name": "stdout",
     "output_type": "stream",
     "text": [
      "False\n",
      "True\n",
      "------------------------------------\n",
      "id of x: 2597801994112\n",
      "id of y: 2597801994496\n",
      "True\n",
      "False\n",
      "------------------------------------\n",
      "id of x: 140725022567128\n",
      "id of y: 140725022567128\n",
      "True\n",
      "True\n",
      "------------------------------------\n",
      "id of x: 140725022567128\n",
      "id of y: 140725022567128\n",
      "True\n",
      "True\n"
     ]
    }
   ],
   "source": [
    "# Identity operator\n",
    "\n",
    "x = 3\n",
    "y = 4\n",
    "print(x is y)\n",
    "print(x is not y)\n",
    "\n",
    "print(\"------------------------------------\")\n",
    "\n",
    "# difference between == and is\n",
    "\n",
    "x = [1,2,3] \n",
    "y = [1,2,3]\n",
    "print(\"id of x:\", id(x))\n",
    "print(\"id of y:\", id(y))\n",
    "print(x == y) # checks if the values are equal\n",
    "print(x is y) # checks if the objects are same\n",
    "\n",
    "print(\"------------------------------------\")\n",
    "\n",
    "x = 10\n",
    "y = 10\n",
    "print(\"id of x:\", id(x))\n",
    "print(\"id of y:\", id(y))\n",
    "print(x == y) # checks if the values are equal\n",
    "print(x is y) # checks if the objects are same\n",
    "\n",
    "print(\"------------------------------------\")\n",
    "\n",
    "x = 'hello'\n",
    "x = y\n",
    "print(\"id of x:\", id(x))\n",
    "print(\"id of y:\", id(y))\n",
    "print(x == y) # checks if the values are equal\n",
    "print(x is y) # checks if the objects are same\n"
   ]
  },
  {
   "cell_type": "code",
   "execution_count": null,
   "id": "759ea10b",
   "metadata": {},
   "outputs": [
    {
     "name": "stdout",
     "output_type": "stream",
     "text": [
      "0\n",
      "7\n",
      "7\n",
      "-5\n",
      "48\n",
      "0\n"
     ]
    }
   ],
   "source": [
    "# Bitwise Operators\n",
    "print(3 & 4) \n",
    "print(3 | 4)\n",
    "print(3 ^ 4)\n",
    "print(~4) # inverts all the bits\n",
    "print(3 << 4) # left shift\n",
    "print(3 >> 4)   # right shift"
   ]
  },
  {
   "cell_type": "code",
   "execution_count": 7,
   "id": "be1521d6",
   "metadata": {},
   "outputs": [
    {
     "name": "stdout",
     "output_type": "stream",
     "text": [
      "False\n",
      "True\n",
      "False\n",
      "True\n",
      "False\n",
      "True\n"
     ]
    }
   ],
   "source": [
    "# Comparison Operators\n",
    "print(3 == 4)\n",
    "print(3 != 4)\n",
    "print(3 > 4)\n",
    "print(3 < 4)\n",
    "print(3 >= 4)\n",
    "print(3 <= 4)"
   ]
  },
  {
   "cell_type": "code",
   "execution_count": 11,
   "id": "e63167c2",
   "metadata": {},
   "outputs": [
    {
     "name": "stdout",
     "output_type": "stream",
     "text": [
      "7\n",
      "3\n",
      "12\n",
      "3.0\n",
      "81.0\n",
      "20.0\n",
      "0.0\n"
     ]
    }
   ],
   "source": [
    "# assignment operators\n",
    "x = 3\n",
    "x += 4\n",
    "print(x)\n",
    "x -= 4\n",
    "print(x)\n",
    "x *= 4\n",
    "print(x)\n",
    "x /= 4\n",
    "print(x)\n",
    "x **= 4\n",
    "print(x)\n",
    "x //= 4\n",
    "print(x)\n",
    "x %= 4\n",
    "print(x)\n"
   ]
  },
  {
   "cell_type": "code",
   "execution_count": 17,
   "id": "ae89a37c",
   "metadata": {},
   "outputs": [
    {
     "name": "stdout",
     "output_type": "stream",
     "text": [
      "True\n",
      "False\n",
      "False\n",
      "True\n"
     ]
    }
   ],
   "source": [
    "# membership operators\n",
    "x = [1,2,3]\n",
    "print(3 in x)\n",
    "print(4 in x)\n",
    "print(3 not in x)\n",
    "print(4 not in x)"
   ]
  },
  {
   "cell_type": "markdown",
   "id": "09992075",
   "metadata": {},
   "source": [
    "# Conditional statement"
   ]
  },
  {
   "cell_type": "code",
   "execution_count": 18,
   "id": "e1a2aeb8",
   "metadata": {},
   "outputs": [
    {
     "name": "stdout",
     "output_type": "stream",
     "text": [
      "x is 10\n"
     ]
    }
   ],
   "source": [
    "# if elif else\n",
    "x = 10\n",
    "if x == 10:\n",
    "    print(\"x is 10\")\n",
    "elif x == 20:\n",
    "    print(\"x is 20\")\n",
    "else:\n",
    "    print(\"x is neither 10 nor 20\")"
   ]
  },
  {
   "cell_type": "code",
   "execution_count": 21,
   "id": "68239927",
   "metadata": {},
   "outputs": [
    {
     "name": "stdout",
     "output_type": "stream",
     "text": [
      "The number is not divisible by either 2 or 3.\n"
     ]
    }
   ],
   "source": [
    "# example\n",
    "\n",
    "num = int(input(\"Enter a number: \"))\n",
    "if num % 2 == 0:\n",
    "    if num % 3 == 0:\n",
    "        print(\"The number is divisible by both 2 and 3.\")\n",
    "    else:\n",
    "        print(\"The number is divisible by 2 but not by 3.\")\n",
    "else:\n",
    "    if num % 3 == 0:\n",
    "        print(\"The number is not divisible by 2 but divisible by 3.\")\n",
    "    else:\n",
    "        print(\"The number is not divisible by either 2 or 3.\")\n"
   ]
  }
 ],
 "metadata": {
  "kernelspec": {
   "display_name": "base",
   "language": "python",
   "name": "python3"
  },
  "language_info": {
   "codemirror_mode": {
    "name": "ipython",
    "version": 3
   },
   "file_extension": ".py",
   "mimetype": "text/x-python",
   "name": "python",
   "nbconvert_exporter": "python",
   "pygments_lexer": "ipython3",
   "version": "3.12.7"
  }
 },
 "nbformat": 4,
 "nbformat_minor": 5
}
