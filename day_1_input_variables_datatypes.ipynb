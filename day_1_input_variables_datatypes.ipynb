{
 "cells": [
  {
   "cell_type": "markdown",
   "id": "5532be05",
   "metadata": {},
   "source": [
    "# Basic output "
   ]
  },
  {
   "cell_type": "code",
   "execution_count": 5,
   "id": "0d2e5821",
   "metadata": {},
   "outputs": [
    {
     "name": "stdout",
     "output_type": "stream",
     "text": [
      "hello world & I am ridwan ?"
     ]
    }
   ],
   "source": [
    "print(\"hello world\",\"I am ridwan\", sep=\" & \", end=\" ?\")"
   ]
  },
  {
   "cell_type": "code",
   "execution_count": 10,
   "id": "49bb3960",
   "metadata": {},
   "outputs": [
    {
     "name": "stdout",
     "output_type": "stream",
     "text": [
      "rdwan\n",
      "My name is rdwan\n"
     ]
    }
   ],
   "source": [
    "var = \"rdwan\"\n",
    "print(var)\n",
    "print(\"My name is\", var)"
   ]
  },
  {
   "cell_type": "markdown",
   "id": "e38c487a",
   "metadata": {},
   "source": [
    "# Variable"
   ]
  },
  {
   "cell_type": "code",
   "execution_count": 14,
   "id": "48095744",
   "metadata": {},
   "outputs": [
    {
     "name": "stdout",
     "output_type": "stream",
     "text": [
      "1981542298752\n",
      "2\n",
      "46\n"
     ]
    }
   ],
   "source": [
    "print(id(var)) #id(var)\n",
    "import sys\n",
    "print(sys.getrefcount(var)) \n",
    "print(sys.getsizeof(var)) "
   ]
  },
  {
   "cell_type": "code",
   "execution_count": null,
   "id": "c180ccd3",
   "metadata": {},
   "outputs": [
    {
     "name": "stdout",
     "output_type": "stream",
     "text": [
      "140717596292632\n",
      "140717596292632\n",
      "True\n",
      "True\n"
     ]
    }
   ],
   "source": [
    "x = 100\n",
    "y = 100\n",
    "print(id(x))\n",
    "print(id(y)) # here both address are same because they are same object\n",
    "print(x == y) # here it will be true because they are same object"
   ]
  },
  {
   "cell_type": "code",
   "execution_count": 18,
   "id": "f6f539db",
   "metadata": {},
   "outputs": [
    {
     "name": "stdout",
     "output_type": "stream",
     "text": [
      "10 20 30\n"
     ]
    }
   ],
   "source": [
    "# invalid variable name  _name, 1name, name1, name@, var-1\n",
    "\n",
    "# multiple variables in single line\n",
    "x, y, z = 10, 20, 30\n",
    "print(x,y,z)\n"
   ]
  },
  {
   "cell_type": "markdown",
   "id": "0a580c0b",
   "metadata": {},
   "source": [
    "# String"
   ]
  },
  {
   "cell_type": "code",
   "execution_count": 24,
   "id": "a814ea83",
   "metadata": {},
   "outputs": [
    {
     "name": "stdout",
     "output_type": "stream",
     "text": [
      "<class 'str'>\n",
      "1020\n",
      "30\n"
     ]
    },
    {
     "data": {
      "text/plain": [
       "43"
      ]
     },
     "execution_count": 24,
     "metadata": {},
     "output_type": "execute_result"
    }
   ],
   "source": [
    "import sys\n",
    "\n",
    "x = input() # 10\n",
    "y = input() # 20\n",
    "print(type(x))\n",
    "print(x+y) # 1020 because x and y are string\n",
    "print(int(x)+int(y)) # 30\n",
    "sys.getsizeof(x)"
   ]
  },
  {
   "cell_type": "code",
   "execution_count": 35,
   "id": "8ec47174",
   "metadata": {},
   "outputs": [
    {
     "name": "stdout",
     "output_type": "stream",
     "text": [
      "HELLO WORLD\n",
      "hello world\n",
      "['hello', 'world']\n",
      "['he', '', 'o wor', 'd']\n",
      "11\n",
      "3\n",
      "2\n",
      "2\n",
      "-1\n",
      "Hello world\n",
      "Hello World\n",
      "HELLO WORLD\n",
      "False\n",
      "False\n",
      "False\n",
      "    hello world     \n",
      "hello world         \n",
      "         hello world\n",
      "heLLo worLd\n"
     ]
    }
   ],
   "source": [
    "# string methods\n",
    "x = \"hello world\"\n",
    "print(x.upper())\n",
    "print(x.lower())\n",
    "print(x.split())\n",
    "print(x.split(\"l\"))\n",
    "print(x.__len__())\n",
    "print(x.count(\"l\"))\n",
    "print(x.find(\"l\"))\n",
    "print(x.find(\"ll\"))\n",
    "print(x.find(\"l\", 10))\n",
    "print(x.capitalize())\n",
    "print(x.title())\n",
    "print(x.swapcase())\n",
    "print(x.isdigit())\n",
    "print(x.isalpha())\n",
    "print(x.isalnum())\n",
    "print(x.center(20))\n",
    "print(x.ljust(20))\n",
    "print(x.rjust(20))\n",
    "print(x.replace(\"l\",\"L\"))"
   ]
  },
  {
   "cell_type": "markdown",
   "id": "56543b4d",
   "metadata": {},
   "source": [
    "# Data types"
   ]
  },
  {
   "cell_type": "code",
   "execution_count": 6,
   "id": "3c2e0631",
   "metadata": {},
   "outputs": [
    {
     "name": "stdout",
     "output_type": "stream",
     "text": [
      "<class 'int'>\n",
      "<class 'float'>\n",
      "<class 'complex'>\n"
     ]
    },
    {
     "data": {
      "text/plain": [
       "False"
      ]
     },
     "execution_count": 6,
     "metadata": {},
     "output_type": "execute_result"
    }
   ],
   "source": [
    "# numeric data\n",
    "\n",
    "x = 10\n",
    "y = 10.8\n",
    "z = 10+2j\n",
    "print(type(x))\n",
    "print(type(y))\n",
    "print(type(z))\n",
    "\n",
    "isinstance(y, int)\n"
   ]
  },
  {
   "cell_type": "code",
   "execution_count": 9,
   "id": "f2bed3b0",
   "metadata": {},
   "outputs": [
    {
     "ename": "TypeError",
     "evalue": "int() argument must be a string, a bytes-like object or a real number, not 'complex'",
     "output_type": "error",
     "traceback": [
      "\u001b[1;31m---------------------------------------------------------------------------\u001b[0m",
      "\u001b[1;31mTypeError\u001b[0m                                 Traceback (most recent call last)",
      "Cell \u001b[1;32mIn[9], line 1\u001b[0m\n\u001b[1;32m----> 1\u001b[0m z \u001b[38;5;241m=\u001b[39m \u001b[38;5;28mint\u001b[39m(z)\n",
      "\u001b[1;31mTypeError\u001b[0m: int() argument must be a string, a bytes-like object or a real number, not 'complex'"
     ]
    }
   ],
   "source": [
    "z = int(z) #error because z is complex number\n"
   ]
  },
  {
   "cell_type": "code",
   "execution_count": null,
   "id": "458f67c9",
   "metadata": {},
   "outputs": [
    {
     "name": "stdout",
     "output_type": "stream",
     "text": [
      "<class 'complex'>\n",
      "(10+0j)\n",
      "10.0\n",
      "0.0\n"
     ]
    }
   ],
   "source": [
    "n = complex(input(\"Enter number: \")) # input 10\n",
    "print(type(n))\n",
    "print(n)\n",
    "print(n.real)\n",
    "print(n.imag)"
   ]
  },
  {
   "cell_type": "code",
   "execution_count": null,
   "id": "61c15cbe",
   "metadata": {},
   "outputs": [
    {
     "name": "stdout",
     "output_type": "stream",
     "text": [
      "[1, 2, 3, 4, 5]\n",
      "2\n",
      "5\n",
      "(1, 2, 3, 4, 5)\n",
      "2\n",
      "5\n",
      "(2, 3, 4)\n",
      "<class 'tuple'>\n"
     ]
    }
   ],
   "source": [
    "# sequence data\n",
    "\n",
    "# list\n",
    "\n",
    "L = [1,2,3,4,5] # its represented by []\n",
    "print(L)\n",
    "print(L[1]) # 2\n",
    "print(L[-1]) # 5\n",
    "\n",
    "# tuple\n",
    "\n",
    "T = (1,2,3,4,5) # its represented by ()\n",
    "print(T)\n",
    "print(T[1]) # 2\n",
    "print(T[-1]) # 5\n",
    "print(T[1:4]) # (2,3,4)\n",
    "print(type(T))\n",
    "\n"
   ]
  },
  {
   "cell_type": "code",
   "execution_count": null,
   "id": "a325bc66",
   "metadata": {},
   "outputs": [
    {
     "name": "stdout",
     "output_type": "stream",
     "text": [
      "range(5, 12, 2)\n",
      "5\n",
      "7\n",
      "9\n",
      "11\n",
      "[5, 7, 9, 11]\n"
     ]
    }
   ],
   "source": [
    "# range\n",
    "\n",
    "x = range(5,12,2)\n",
    "print(x)\n",
    "\n",
    "for i in x:\n",
    "    print(i)\n",
    "    \n",
    "print(list(x))\n"
   ]
  },
  {
   "cell_type": "code",
   "execution_count": null,
   "id": "768eb68a",
   "metadata": {},
   "outputs": [
    {
     "ename": "TypeError",
     "evalue": "array() argument 1 must be a unicode character, not list",
     "output_type": "error",
     "traceback": [
      "\u001b[1;31m---------------------------------------------------------------------------\u001b[0m",
      "\u001b[1;31mTypeError\u001b[0m                                 Traceback (most recent call last)",
      "Cell \u001b[1;32mIn[15], line 5\u001b[0m\n\u001b[0;32m      1\u001b[0m \u001b[38;5;66;03m# array\u001b[39;00m\n\u001b[0;32m      3\u001b[0m \u001b[38;5;28;01mimport\u001b[39;00m \u001b[38;5;21;01marray\u001b[39;00m \u001b[38;5;28;01mas\u001b[39;00m \u001b[38;5;21;01mar\u001b[39;00m\n\u001b[1;32m----> 5\u001b[0m a \u001b[38;5;241m=\u001b[39m ar\u001b[38;5;241m.\u001b[39marray([\u001b[38;5;241m1\u001b[39m,\u001b[38;5;241m2\u001b[39m,\u001b[38;5;241m3\u001b[39m,\u001b[38;5;241m4\u001b[39m,\u001b[38;5;241m5\u001b[39m])\n\u001b[0;32m      6\u001b[0m \u001b[38;5;28mprint\u001b[39m(a)\n",
      "\u001b[1;31mTypeError\u001b[0m: array() argument 1 must be a unicode character, not list"
     ]
    }
   ],
   "source": [
    "# array\n",
    "\n",
    "import array as ar\n",
    "\n",
    "a = ar.array([1,2,3,4,5]) #error because array is deprecated\n",
    "print(a)"
   ]
  },
  {
   "cell_type": "code",
   "execution_count": 17,
   "id": "787d9e3b",
   "metadata": {},
   "outputs": [
    {
     "name": "stdout",
     "output_type": "stream",
     "text": [
      "array('i', [1, 2, 3, 4, 5])\n",
      "array('f', [1.5, 2.0, 3.0, 4.0, 5.0])\n"
     ]
    }
   ],
   "source": [
    "a = ar.array('i', [1,2,3,4,5]) # you have to specify the data type\n",
    "print(a)\n",
    "\n",
    "b = ar.array('f', [1.5,2,3,4,5]) # you have to specify the data type\n",
    "print(b)"
   ]
  },
  {
   "cell_type": "code",
   "execution_count": null,
   "id": "28b7b85b",
   "metadata": {},
   "outputs": [],
   "source": [
    "# set\n",
    "\n",
    "s = {1,2,3,4,5}\n",
    "print(s)"
   ]
  },
  {
   "cell_type": "code",
   "execution_count": 18,
   "id": "09ecda57",
   "metadata": {},
   "outputs": [
    {
     "name": "stdout",
     "output_type": "stream",
     "text": [
      "{'name': 'ridwan', 'age': 20}\n",
      "ridwan\n",
      "ridwan\n",
      "dict_keys(['name', 'age'])\n",
      "dict_values(['ridwan', 20])\n",
      "dict_items([('name', 'ridwan'), ('age', 20)])\n"
     ]
    }
   ],
   "source": [
    "# dictionary\n",
    "\n",
    "d = {\"name\":\"ridwan\", \"age\":20}\n",
    "print(d)\n",
    "print(d[\"name\"])\n",
    "print(d.get(\"name\"))\n",
    "print(d.keys())\n",
    "print(d.values())\n",
    "print(d.items())"
   ]
  }
 ],
 "metadata": {
  "kernelspec": {
   "display_name": "base",
   "language": "python",
   "name": "python3"
  },
  "language_info": {
   "codemirror_mode": {
    "name": "ipython",
    "version": 3
   },
   "file_extension": ".py",
   "mimetype": "text/x-python",
   "name": "python",
   "nbconvert_exporter": "python",
   "pygments_lexer": "ipython3",
   "version": "3.12.7"
  }
 },
 "nbformat": 4,
 "nbformat_minor": 5
}
