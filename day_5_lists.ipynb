{
 "cells": [
  {
   "cell_type": "markdown",
   "id": "9e93c0f6",
   "metadata": {},
   "source": [
    "# Lists\n",
    "\n",
    "A list is a data type that is used to store a collection of items in a particular order.\n",
    "\n",
    "Characterestics:\n",
    "\n",
    "1. Ordered\n",
    "2. Changeable\n",
    "3. Allow Duplicates \n",
    "\n",
    "# syntax\n",
    "\n",
    "list_name = [item1, item2, item3, item4]"
   ]
  },
  {
   "cell_type": "code",
   "execution_count": 2,
   "id": "b3105d00",
   "metadata": {},
   "outputs": [
    {
     "name": "stdout",
     "output_type": "stream",
     "text": [
      "1\n"
     ]
    },
    {
     "data": {
      "text/plain": [
       "5"
      ]
     },
     "execution_count": 2,
     "metadata": {},
     "output_type": "execute_result"
    }
   ],
   "source": [
    "list_1 = [1,2,3,4,5]\n",
    "\n",
    "print(list_1[0])\n",
    "list_1.pop()\n",
    "\n"
   ]
  },
  {
   "cell_type": "code",
   "execution_count": 5,
   "id": "f89fe3bc",
   "metadata": {},
   "outputs": [
    {
     "name": "stdout",
     "output_type": "stream",
     "text": [
      "[3, 12, 20, 30, 40]\n"
     ]
    }
   ],
   "source": [
    "# input from user\n",
    "\n",
    "list_2 = []\n",
    "for i in range(5):\n",
    "    list_2.append(int(input()))\n",
    "\n",
    "print(list_2)"
   ]
  },
  {
   "cell_type": "markdown",
   "id": "2f99d005",
   "metadata": {},
   "source": [
    "# List Methods"
   ]
  },
  {
   "cell_type": "code",
   "execution_count": 8,
   "id": "0ab4a013",
   "metadata": {},
   "outputs": [
    {
     "name": "stdout",
     "output_type": "stream",
     "text": [
      "1\n",
      "2\n",
      "5\n",
      "After reverse [5, 4, 3, 2, 1]\n",
      "After sort [1, 2, 3, 4, 5]\n",
      "after extend [1, 2, 3, 4, 5, 6, 7, 8]\n",
      "after insert [1, 2, 9, 3, 4, 5, 6, 7, 8]\n",
      "after remove [1, 2, 3, 4, 5, 6, 7, 8]\n",
      "[1, 2, 3, 4, 5, 6, 7, 8, 9]\n",
      "[1, 2, 3, 4, 5, 6, 7, 8]\n",
      "[]\n"
     ]
    }
   ],
   "source": [
    "# methods\n",
    "\n",
    "list_3 = [1,2,3,4,5]\n",
    "print(list_3.count(3))\n",
    "print(list_3.index(3))\n",
    "print(list_3[-1])\n",
    "list_3.reverse()\n",
    "print(\"After reverse\",list_3)\n",
    "list_3.sort() \n",
    "print(\"After sort\",list_3)\n",
    "list_3.extend([6,7,8])\n",
    "print(\"after extend\",list_3)\n",
    "list_3.insert(2,9)\n",
    "print(\"after insert\",list_3)\n",
    "list_3.remove(9)\n",
    "print(\"after remove\",list_3)\n",
    "list_3.append(9)\n",
    "print(list_3)\n",
    "list_3.pop()\n",
    "print(list_3)\n",
    "list_3.clear()\n",
    "print(list_3)"
   ]
  },
  {
   "cell_type": "code",
   "execution_count": 9,
   "id": "3bd0604f",
   "metadata": {},
   "outputs": [
    {
     "name": "stdout",
     "output_type": "stream",
     "text": [
      "[1, 2, 3, 4, 5]\n"
     ]
    }
   ],
   "source": [
    "# copy\n",
    "\n",
    "list_4 = [1,2,3,4,5]\n",
    "list_5 = list_4.copy()\n",
    "print(list_5)"
   ]
  },
  {
   "cell_type": "code",
   "execution_count": null,
   "id": "aa7c4c42",
   "metadata": {},
   "outputs": [
    {
     "name": "stdout",
     "output_type": "stream",
     "text": [
      "[1, 'hello', 3, 4, 5]\n",
      "[1, 'hello', 3, 4, 5]\n",
      "[10, 'hello', 3, 4, 5]\n",
      "[1, 'hello', 3, 4, 5]\n"
     ]
    }
   ],
   "source": [
    "# difference between copy and equal\n",
    "\n",
    "list_1 = [1,'hello',3,4,5]\n",
    "list_2 = list_1\n",
    "list_3 = list_1.copy()\n",
    "\n",
    "print(list_2)\n",
    "print(list_3)\n",
    "\n",
    "\n",
    "list_1[0] = 10 # changed value in list_1\n",
    "\n",
    "print(list_2) # list 2 changed\n",
    "print(list_3) # list 3 not changed"
   ]
  },
  {
   "cell_type": "code",
   "execution_count": 15,
   "id": "70ed7bd9",
   "metadata": {},
   "outputs": [
    {
     "name": "stdout",
     "output_type": "stream",
     "text": [
      "[1, 2, 3, 4, 5, [6, 7, 8]]\n",
      "[1, 2, 3, 4, 5, 6, 7, 8]\n"
     ]
    }
   ],
   "source": [
    "# difference between append and extend\n",
    "\n",
    "list_1 = [1,2,3,4,5]\n",
    "list_2 = [6,7,8]\n",
    "\n",
    "list_1.append(list_2)\n",
    "print(list_1)\n",
    "\n",
    "list_3 = [1,2,3,4,5]\n",
    "list_4 = [6,7,8]\n",
    "\n",
    "list_3.extend(list_4)\n",
    "print(list_3)"
   ]
  },
  {
   "cell_type": "markdown",
   "id": "3b49e7c4",
   "metadata": {},
   "source": [
    "# List comprehension\n",
    "\n",
    "basic syntax\n",
    "\n",
    "```python\n",
    "list_name = [expression for item in iterable if condition == True]\n",
    "```\n"
   ]
  },
  {
   "cell_type": "code",
   "execution_count": 16,
   "id": "7bfe0ccf",
   "metadata": {},
   "outputs": [
    {
     "name": "stdout",
     "output_type": "stream",
     "text": [
      "[0, 1, 4, 9, 16, 25, 36, 49, 64, 81]\n"
     ]
    }
   ],
   "source": [
    "# simple example comprehension\n",
    "\n",
    "squares = [x**2 for x in range(10)]\n",
    "print(squares)"
   ]
  },
  {
   "cell_type": "code",
   "execution_count": 19,
   "id": "4a0cb2af",
   "metadata": {},
   "outputs": [
    {
     "name": "stdout",
     "output_type": "stream",
     "text": [
      "[[0, 1, 2], [0, 1, 2], [0, 1, 2], [0, 1, 2], [0, 1, 2]]\n"
     ]
    }
   ],
   "source": [
    "# creating matrix using list comprehension\n",
    "\n",
    "matrix = [[i for i in range(3)] for j in range(5)]\n",
    "print(matrix)"
   ]
  }
 ],
 "metadata": {
  "kernelspec": {
   "display_name": "base",
   "language": "python",
   "name": "python3"
  },
  "language_info": {
   "codemirror_mode": {
    "name": "ipython",
    "version": 3
   },
   "file_extension": ".py",
   "mimetype": "text/x-python",
   "name": "python",
   "nbconvert_exporter": "python",
   "pygments_lexer": "ipython3",
   "version": "3.12.7"
  }
 },
 "nbformat": 4,
 "nbformat_minor": 5
}
